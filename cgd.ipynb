{
  "nbformat": 4,
  "nbformat_minor": 2,
  "metadata": {
    "orig_nbformat": 4,
    "language_info": {
      "name": "python",
      "version": "3.9.1",
      "mimetype": "text/x-python",
      "codemirror_mode": {
        "name": "ipython",
        "version": 3
      },
      "pygments_lexer": "ipython3",
      "nbconvert_exporter": "python",
      "file_extension": ".py"
    },
    "kernelspec": {
      "name": "python3",
      "display_name": "Python 3.9.1 64-bit ('cgd_venv': venv)"
    },
    "interpreter": {
      "hash": "df369922dce60aef3e878b1b53550d3a55b368f1ac0931e547f318c968180cb0"
    },
    "colab": {
      "name": "cgd.ipynb",
      "provenance": [],
      "include_colab_link": true
    },
    "accelerator": "GPU"
  },
  "cells": [
    {
      "cell_type": "markdown",
      "source": [
        "<a href=\"https://colab.research.google.com/github/afiaka87/clip-guided-diffusion/blob/main/cgd.ipynb\" target=\"_parent\"><img src=\"https://colab.research.google.com/assets/colab-badge.svg\" alt=\"Open In Colab\"/></a>"
      ],
      "metadata": {
        "id": "view-in-github",
        "colab_type": "text"
      }
    },
    {
      "cell_type": "markdown",
      "source": [
        "# CLIP Guided Diffusion \n",
        "\n",
        "**From [RiversHaveWings](https://twitter.com/RiversHaveWing)**\n",
        "\n",
        "Generate vibrant and detailed images using only text.\n",
        "- Originally by Katherine Crowson (https://github.com/crowsonkb, https://twitter.com/RiversHaveWings). \n",
        "- Python repository and additions assembled by Clay Mullis (https://github.com/afiaka87)\n",
        "\n",
        "**[Read Me](https://github.com/afiaka87/clip-guided-diffusion)**"
      ],
      "metadata": {
        "id": "f1Tay1Y169ru"
      }
    },
    {
      "cell_type": "code",
      "execution_count": null,
      "source": [
        "#@title Licensed under the MIT License\n",
        "\n",
        "# Copyright (c) 2021 Clay Mullis\n",
        "\n",
        "# Permission is hereby granted, free of charge, to any person obtaining a copy\n",
        "# of this software and associated documentation files (the \"Software\"), to deal\n",
        "# in the Software without restriction, including without limitation the rights\n",
        "# to use, copy, modify, merge, publish, distribute, sublicense, and/or sell\n",
        "# copies of the Software, and to permit persons to whom the Software is\n",
        "# furnished to do so, subject to the following conditions:\n",
        "\n",
        "# The above copyright notice and this permission notice shall be included in\n",
        "# all copies or substantial portions of the Software.\n",
        "\n",
        "# THE SOFTWARE IS PROVIDED \"AS IS\", WITHOUT WARRANTY OF ANY KIND, EXPRESS OR\n",
        "# IMPLIED, INCLUDING BUT NOT LIMITED TO THE WARRANTIES OF MERCHANTABILITY,\n",
        "# FITNESS FOR A PARTICULAR PURPOSE AND NONINFRINGEMENT. IN NO EVENT SHALL THE\n",
        "# AUTHORS OR COPYRIGHT HOLDERS BE LIABLE FOR ANY CLAIM, DAMAGES OR OTHER\n",
        "# LIABILITY, WHETHER IN AN ACTION OF CONTRACT, TORT OR OTHERWISE, ARISING FROM,\n",
        "# OUT OF OR IN CONNECTION WITH THE SOFTWARE OR THE USE OR OTHER DEALINGS IN\n",
        "# THE SOFTWARE."
      ],
      "outputs": [],
      "metadata": {
        "id": "SsoBNFpL69rv",
        "cellView": "form"
      }
    },
    {
      "cell_type": "code",
      "execution_count": null,
      "source": [
        "#@title Grab code and install requirements\n",
        "# colab only\n",
        "%cd /content\n",
        "!git clone 'https://github.com/afiaka87/clip-guided-diffusion'\n",
        "!git clone 'https://github.com/afiaka87/guided-diffusion'\n",
        "%pip install -r /content/clip-guided-diffusion/requirements.txt \n",
        "%pip install -e guided-diffusion"
      ],
      "outputs": [],
      "metadata": {
        "id": "XnF35z2h69rw",
        "outputId": "19b1c4e6-38e0-4ce2-e4e7-825e6a3c99e3",
        "colab": {
          "base_uri": "https://localhost:8080/"
        }
      }
    },
    {
      "cell_type": "markdown",
      "source": [
        "# Imports"
      ],
      "metadata": {}
    },
    {
      "cell_type": "markdown",
      "source": [
        "# Configure\n",
        "- `prompt` - the text to be used for generating the image.\n",
        "- `prompt_min` - (optional) - text you would like to penalize during generation.\n",
        "- `clip_guidance_scale` - CLIP based loss scale. **Requires experimentation to find the best value. 100-500 seems to work well with class_search, 500-2000 for more abstract prompts.**\n",
        "- `tv_scale` - Denoising loss scale. **Requires experimentation to find the best value. 0-250 seems to work well.**\n",
        "- `class_score` Rank classes with CLIP instead of uniform random selection\n",
        "- `top_n` max classes to rank.\n",
        "- `timestep_respacing` - Number of timesteps to visit out of total `diffusion_steps`.\n",
        "- `timestep_respacing` must be one of `[\"25\", \"50\", \"100\", \"250\", \"500\", \"1000\", \"ddim25\", \"ddim50\", \"ddim100\", \"ddim250\", \"ddim500\", \"ddim1000\"]`\n",
        "    - Smaller values are much faster but less accurate.\n",
        "    - Larger values are very accurate but take much longer.\n",
        "- `init_image` - Sample image for `skip_timsteps` before guiding with CLIP.\n",
        "- `skip_timesteps` should be less than `timestep_respacing` and `diffusion_steps`\n",
        "- `num_cutouts` can be increased to increase the number of random cutouts CLIP sees. Higher is more accurate but takes longer.\n",
        "- `cutout_power` can be decreased to 0.5 with sufficiently high num_cutouts.\n",
        "- `num_cutouts` makes much less of a difference with guided diffusion. 8 seems to be a good minimum and beyond 64 seems to have diminishing returns.\n",
        "- disabling `class_cond` will also disable class randomization/clip scoring\n",
        "- I have not experimented with transforms much; these are merely here to showcase how to use them.**\n",
        "\n",
        "VRAM/Runtime for `clip_model=ViT-B/32`, `cutn=32`, `timestep_respacing=250`, GPU: RTX 2070 Super (8GB)\n",
        "- 64x64, 3402 MB, 46.4s\n",
        "- 128x128 - 3524 MB, 67.9s\n",
        "- 256x256 - 7149 MB, 159.1s\n",
        "- 512x512 - Untested (requires more than 8 GB of VRAM)"
      ],
      "metadata": {}
    },
    {
      "cell_type": "code",
      "execution_count": null,
      "source": [
        "#@title Config\n",
        "\n",
        "#@markdown Text Prompts\n",
        "prompt = \"Abstract swirls of colorful paint flowers\" #@param{type: \"string\"}\n",
        "prompt_min = \"\" #@param{type: \"string\"}\n",
        "prompt_min = None if len(prompt_min) == 0 else prompt_min\n",
        "min_weight = 0.1\n",
        "\n",
        "#@markdown CLIP/Diffusion\n",
        "image_size = \"128\"  #@param [\"64\", \"128\", \"256\", \"512\"]\n",
        "image_size = int(image_size)\n",
        "\n",
        "unconditional = False #@param{type: \"boolean\"}\n",
        "clip_model_name = \"ViT-B/32\" #@param [\"RN50\", \"ViT-B/32\", \"ViT-B/16\", \"RN50x4\", \"RN50x16\"]\n",
        "\n",
        "#@markdown Initial image (url or path, set to \"\" to disable)\n",
        "init_image = \"\" #@param{type: \"string\"}\n",
        "skip_timesteps = 0 #@param{type: \"number\"}\n",
        "if len(init_image) > 0 and skip_timesteps == 0:\n",
        "    print(\"Overriding skip_timesteps to 500 because init_image is set but skip_timesteps is 0. You may want to override this manually.\")\n",
        "    skip_timesteps = 500\n",
        "if len(init_image) == 0:\n",
        "    if skip_timesteps > 0:\n",
        "        print(\"Overriding skip_timesteps to 0 because you dont have an init image set.\")\n",
        "        skip_timesteps = 0\n",
        "    init_image = None\n",
        "\n",
        "#@markdown Knobs\n",
        "num_cutouts = 16 #@param{type: \"number\"}\n",
        "timestep_respacing = \"ddim50\" #@param [\"25\", \"50\", \"100\", \"250\", \"500\", \"1000\", \"ddim25\", \"ddim50\", \"ddim100\", \"ddim250\", \"ddim500\", \"ddim1000\"]\n",
        "clip_guidance_scale = 1000 #@param{type: \"number\"}\n",
        "tv_scale = 100 #@param{type: \"number\"}\n",
        "cutout_power = 1.0 #@param {type: \"number\"}\n",
        "cutout_power = float(cutout_power)\n",
        "\n",
        "#@markdown Use CLIP to find ImageNet classes.\n",
        "class_score = True #@param{type: \"boolean\"}\n",
        "top_n = 1000\n",
        "\n",
        "#@markdown Output\n",
        "save_frequency = 1 #@param{type: \"number\"}\n",
        "\n",
        "# probably don't touch\n",
        "batch_size = 1\n",
        "diffusion_steps = 1000 # best to leave this alone.\n",
        "output_dir = \"outputs\"\n",
        "seed = 0\n",
        "random_affine = False\n",
        "random_motion_blur = False\n",
        "random_horizontal_flip = False\n",
        "augs = []\n",
        "import kornia.augmentation as kaugs\n",
        "if random_affine: augs.append(kaugs.RandomAffine(degrees=15, translate=(0.1, 0.1), scale=(0.9, 1.1), shear=0.1))\n",
        "if random_motion_blur: augs.append(kaugs.RandomMotionBlur(kernel_size=(3, 5), angle=15, direction=0.5))\n",
        "if random_horizontal_flip: augs.append(kaugs.RandomHorizontalFlip(p=0.5))\n"
      ],
      "outputs": [],
      "metadata": {}
    },
    {
      "cell_type": "markdown",
      "source": [
        "# Run"
      ],
      "metadata": {}
    },
    {
      "cell_type": "code",
      "execution_count": null,
      "source": [
        "#@title Run\n",
        "\n",
        "import os\n",
        "import sys\n",
        "\n",
        "from pathlib import Path\n",
        "from IPython import display as ipy_display\n",
        "import torch as th\n",
        "\n",
        "sys.path.append(\"guided-diffusion\")\n",
        "sys.path.append(\"clip-guided-diffusion\" if \"clip-guided-diffusion\" not in os.getcwd() else \".\")\n",
        "import cgd_util\n",
        "from cgd import clip_guided_diffusion\n",
        "clear_scrollback = False # @param {type:\"boolean\"}\n",
        "\n",
        "# convert Path arg to Path object\n",
        "prefix_path = Path('./outputs')\n",
        "prefix_path.mkdir(exist_ok=True)\n",
        "\n",
        "# Assertions\n",
        "assert prefix_path.is_dir(), f\"--prefix,-dir {prefix_path} is a file, not a directory. Please provide a directory.\"\n",
        "assert 0 < save_frequency <= int(timestep_respacing.replace('ddim', '')), f\"save_frequency must be greater than 0 and less than {timestep_respacing}\"\n",
        "\n",
        "# Load init image.\n",
        "if init_image is not None:\n",
        "    if init_image.startswith(\"http\"):\n",
        "        !wget --continue $init_image -O init_image.jpg\n",
        "    else:\n",
        "        !cp -n -v $init_image init_image.jpg\n",
        "    init_image = \"init_image.jpg\"\n",
        "\n",
        "# Initialize clip guided diffusion generator\n",
        "\n",
        "_class_cond = not unconditional\n",
        "cgd_samples, _, diffusion = clip_guided_diffusion(\n",
        "    prompt=prompt, \n",
        "    prompt_min=prompt_min, \n",
        "    min_weight=min_weight, \n",
        "    batch_size=batch_size, \n",
        "    tv_scale=tv_scale, top_n=top_n,\n",
        "    image_size=image_size, class_cond=_class_cond, \n",
        "    clip_guidance_scale=clip_guidance_scale, cutout_power=cutout_power,\n",
        "    num_cutouts=num_cutouts, timestep_respacing=timestep_respacing, \n",
        "    custom_device='cuda' if th.cuda.is_available() else 'cpu', seed=seed,\n",
        "    diffusion_steps=diffusion_steps, \n",
        "    skip_timesteps=skip_timesteps, init_image=init_image,\n",
        "    clip_model_name=clip_model_name, \n",
        "    class_score=class_score, \n",
        "    randomize_class=_class_cond, \n",
        "    augs=augs\n",
        ")\n",
        "\n",
        "# Remove non-alphanumeric and white space characters from prompt and prompt_min for directory name\n",
        "outputs_path = cgd_util.txt_to_dir(base_path=prefix_path, txt=prompt, txt_min=prompt_min)\n",
        "outputs_path.mkdir(exist_ok=True)\n",
        "\n",
        "# Do the run\n",
        "all_images = []\n",
        "try:\n",
        "    current_timestep = diffusion.num_timesteps - 1\n",
        "    for step, sample in enumerate(cgd_samples):\n",
        "        current_timestep -= 1\n",
        "        if step % save_frequency == 0 or current_timestep == -1:\n",
        "            if clear_scrollback:\n",
        "                ipy_display.clear_output(wait=True)\n",
        "            for j, image in enumerate(sample[\"pred_xstart\"]):\n",
        "                image_path = Path(cgd_util.log_image(image, prefix_path, step, j))\n",
        "                ipy_display.display(ipy_display.Image(image_path))\n",
        "                all_images.append(image_path)\n",
        "except RuntimeError as runtime_ex:\n",
        "    if \"CUDA out of memory\" in str(runtime_ex):\n",
        "        print(f\"CUDA OOM error occurred.\")\n",
        "        print(f\"Try lowering --image_size/-size, --batch_size/-bs, --num_cutouts/-cutn\")\n",
        "        print(f\"--clip_model/-clip (currently {clip_model_name}) can have a large impact on VRAM usage.\")\n",
        "        print(f\"'RN50' will use the least VRAM. 'ViT-B/32' the second least and is good for its memory/runtime constraints.\")\n",
        "        # Seems to be a memory leak specific to ipython/jupyter/pytorch\n",
        "        # If you're rerunning this cell, you may need to restart the runtime.\n",
        "    else:\n",
        "        raise runtime_ex\n",
        "\n",
        "print(f\"Saved {len(all_images)} total images from guided diffusion to {outputs_path}.\")\n",
        "print(f'You may need to restart the runtime to generate another image.')"
      ],
      "outputs": [],
      "metadata": {}
    }
  ]
}