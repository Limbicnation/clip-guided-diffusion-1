{
 "cells": [
  {
   "cell_type": "markdown",
   "source": [
    "**Notebook has moved to [cgd.ipynb](https://github.com/afiaka87/clip-guided-diffusion/cgd.ipynb)**\n"
   ],
   "metadata": {}
  }
 ],
 "metadata": {
  "orig_nbformat": 4,
  "language_info": {
   "name": "python",
   "version": "3.9.1"
  },
  "kernelspec": {
   "name": "python3",
   "display_name": "Python 3.9.1 64-bit ('cgd_venv': venv)"
  },
  "interpreter": {
   "hash": "df369922dce60aef3e878b1b53550d3a55b368f1ac0931e547f318c968180cb0"
  }
 },
 "nbformat": 4,
 "nbformat_minor": 2
}