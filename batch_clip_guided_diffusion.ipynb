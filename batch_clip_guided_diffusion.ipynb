{
  "nbformat": 4,
  "nbformat_minor": 0,
  "metadata": {
    "colab": {
      "name": "batch_clip_guided_diffusion.ipynb",
      "private_outputs": true,
      "provenance": [],
      "collapsed_sections": [],
      "authorship_tag": "ABX9TyPXiOxPq1g+a3pKIVq0vT3A",
      "include_colab_link": true
    },
    "kernelspec": {
      "name": "python3",
      "display_name": "Python 3"
    },
    "language_info": {
      "name": "python"
    },
    "accelerator": "GPU"
  },
  "cells": [
    {
      "cell_type": "markdown",
      "metadata": {
        "id": "view-in-github",
        "colab_type": "text"
      },
      "source": [
        "<a href=\"https://colab.research.google.com/github/afiaka87/clip-guided-diffusion/blob/main/batch_clip_guided_diffusion.ipynb\" target=\"_parent\"><img src=\"https://colab.research.google.com/assets/colab-badge.svg\" alt=\"Open In Colab\"/></a>"
      ]
    },
    {
      "cell_type": "code",
      "metadata": {
        "id": "DLSXrsgnmThZ"
      },
      "source": [
        "# Dear Discord/Reddit/HN/Twitter/Whatever users\n",
        "# USE GITHUB. \n",
        "# USE GITHUB. \n",
        "# USE GITHUB. \n",
        "# If you use this code and have any complaints and you decide that Discord/Reddit/HN/Twitter is \n",
        "# the correct place to _make_ those complaints, you are accomplishing little more than, perhaps, \n",
        "# gaining some internet points (which are worthless btw).\n",
        "# If instead, you _made a github account_ and _filed an issue_ on the repository at github.com/afiaka87 you would instantly go\n",
        "# from complaining about software to the complete wrong people to being a CONTRIBUTOR TO open source software.\n",
        "# Does that not sound nice?\n",
        "# Sincerely, afiaka87"
      ],
      "execution_count": null,
      "outputs": []
    },
    {
      "cell_type": "code",
      "metadata": {
        "id": "cuEuiSbMbJ0r"
      },
      "source": [
        "!nvidia-smi\n"
      ],
      "execution_count": null,
      "outputs": []
    },
    {
      "cell_type": "code",
      "metadata": {
        "id": "XPq8_3iYdwTv"
      },
      "source": [
        "%cd /content\n",
        "\n",
        "!git clone 'https://github.com/afiaka87/clip-guided-diffusion' \n",
        "!git clone 'https://github.com/crowsonkb/guided-diffusion'\n",
        "\n",
        "%pip install clip-anytorch kornia\n",
        "%pip install -r /content/clip-guided-diffusion/requirements.txt\n",
        "!python /content/clip-guided-diffusion/guided-diffusion/setup.py install\n",
        "\n",
        "%mkdir /content/checkpoints"
      ],
      "execution_count": null,
      "outputs": []
    },
    {
      "cell_type": "code",
      "metadata": {
        "id": "-QOHQiuhh5B1"
      },
      "source": [
        "#@title Open AI Guided Diffusion 256x256 px unconditional diffusion weights\n",
        "!wget --continue 'https://openaipublic.blob.core.windows.net/diffusion/jul-2021/256x256_diffusion_uncond.pt' -O /content/checkpoints/256x256_diffusion_uncond.pt\n"
      ],
      "execution_count": null,
      "outputs": []
    },
    {
      "cell_type": "code",
      "metadata": {
        "id": "1OhC3ltdbvO_"
      },
      "source": [
        "#@title Captions to generate visuals for\n",
        "%%writefile /content/captions_to_generate.txt\n",
        "a teapot in the form of an avocado a teapot imitating an avocado\n",
        "a teapot in the shape of an avocado a teapot imitating an avocado\n",
        "a teapot in the style of an avocado a teapot imitating an avocado\n",
        "a clock in the form of an avocado a clock imitating an avocado\n",
        "a clock in the shape of an avocado a clock imitating an avocado\n",
        "a clock in the style of an avocado a clock imitating an avocado\n",
        "a coffee table in the form of an avocado a coffee table imitating an avocado\n",
        "a coffee table in the shape of an avocado a coffee table imitating an avocado\n",
        "a coffee table in the style of an avocado a coffee table imitating an avocado\n",
        "a lamp in the form of an avocado a lamp imitating an avocado\n",
        "a lamp in the shape of an avocado a lamp imitating an avocado\n",
        "a lamp in the style of an avocado a lamp imitating an avocado\n",
        "a soap dispenser in the form of an avocado a soap dispenser imitating an avocado\n",
        "a soap dispenser in the shape of an avocado a soap dispenser imitating an avocado\n",
        "a soap dispenser in the style of an avocado a soap dispenser imitating an avocado\n",
        "a tissue box in the form of an avocado a tissue box imitating an avocado\n",
        "a tissue box in the shape of an avocado a tissue box imitating an avocado\n",
        "a tissue box in the style of an avocado a tissue box imitating an avocado"
      ],
      "execution_count": null,
      "outputs": []
    },
    {
      "cell_type": "code",
      "metadata": {
        "id": "Z7QNW96RcKKd"
      },
      "source": [
        "#@title Use xargs to run the cli program once for each caption in above cell.\n",
        "# (note) - bash is fickle about spaces and single/double quotes. edit with caution.\n",
        "!(cat captions_to_generate.txt | xargs -I {} python3 /content/clip-guided-diffusion/cgd.py \\\n",
        "  --num_cutouts 32 \\\n",
        "  --prefix 'outputs' \\\n",
        "  --batch_size 1 \\\n",
        "  --clip_guidance_scale 1500 \\\n",
        "  --tv_weight 150 \\\n",
        "  --seed 0 \\\n",
        "  --save_frequency 50 \\\n",
        "  --device 'cuda' \\\n",
        "  --diffusion_steps 1000 \\\n",
        "  --skip_timesteps 0 \\\n",
        "  --timestep_respacing '250' \\\n",
        "  --cutout_power 1.0 \\\n",
        "  --clip_model 'ViT-B/16' \\\n",
        "  \"{}\" | tee log.txt)"
      ],
      "execution_count": null,
      "outputs": []
    },
    {
      "cell_type": "code",
      "metadata": {
        "id": "OOPeVIz7kZd9"
      },
      "source": [
        "#@title zip outputs for download\n",
        "%cd /content\n",
        "!zip -r download_me.zip /content/outputs"
      ],
      "execution_count": null,
      "outputs": []
    }
  ]
}