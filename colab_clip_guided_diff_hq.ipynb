{
  "nbformat": 4,
  "nbformat_minor": 0,
  "metadata": {
    "colab": {
      "name": "colab_clip_guided_diff_hq.ipynb",
      "private_outputs": true,
      "provenance": [],
      "collapsed_sections": [],
      "machine_shape": "hm",
      "include_colab_link": true
    },
    "kernelspec": {
      "name": "python3",
      "display_name": "Python 3"
    },
    "language_info": {
      "name": "python"
    },
    "accelerator": "GPU"
  },
  "cells": [
    {
      "cell_type": "markdown",
      "metadata": {
        "id": "view-in-github",
        "colab_type": "text"
      },
      "source": [
        "<a href=\"https://colab.research.google.com/github/afiaka87/clip-guided-diffusion/blob/main/colab_clip_guided_diff_hq.ipynb\" target=\"_parent\"><img src=\"https://colab.research.google.com/assets/colab-badge.svg\" alt=\"Open In Colab\"/></a>"
      ]
    },
    {
      "cell_type": "markdown",
      "metadata": {
        "id": "1YwMUyt9LHG1"
      },
      "source": [
        "# Generates images from text prompts with CLIP guided diffusion.\n",
        "\n",
        "By Katherine Crowson (https://github.com/crowsonkb, https://twitter.com/RiversHaveWings). It uses OpenAI's 256x256 unconditional ImageNet diffusion model (https://github.com/openai/guided-diffusion) together with CLIP (https://github.com/openai/CLIP) to connect text prompts with images. "
      ]
    },
    {
      "cell_type": "code",
      "metadata": {
        "id": "XIqUfrmvLIhg",
        "cellView": "form"
      },
      "source": [
        "# @title Licensed under the MIT License\n",
        "\n",
        "# Copyright (c) 2021 Katherine Crowson\n",
        "\n",
        "# Permission is hereby granted, free of charge, to any person obtaining a copy\n",
        "# of this software and associated documentation files (the \"Software\"), to deal\n",
        "# in the Software without restriction, including without limitation the rights\n",
        "# to use, copy, modify, merge, publish, distribute, sublicense, and/or sell\n",
        "# copies of the Software, and to permit persons to whom the Software is\n",
        "# furnished to do so, subject to the following conditions:\n",
        "\n",
        "# The above copyright notice and this permission notice shall be included in\n",
        "# all copies or substantial portions of the Software.\n",
        "\n",
        "# THE SOFTWARE IS PROVIDED \"AS IS\", WITHOUT WARRANTY OF ANY KIND, EXPRESS OR\n",
        "# IMPLIED, INCLUDING BUT NOT LIMITED TO THE WARRANTIES OF MERCHANTABILITY,\n",
        "# FITNESS FOR A PARTICULAR PURPOSE AND NONINFRINGEMENT. IN NO EVENT SHALL THE\n",
        "# AUTHORS OR COPYRIGHT HOLDERS BE LIABLE FOR ANY CLAIM, DAMAGES OR OTHER\n",
        "# LIABILITY, WHETHER IN AN ACTION OF CONTRACT, TORT OR OTHERWISE, ARISING FROM,\n",
        "# OUT OF OR IN CONNECTION WITH THE SOFTWARE OR THE USE OR OTHER DEALINGS IN\n",
        "# THE SOFTWARE."
      ],
      "execution_count": null,
      "outputs": []
    },
    {
      "cell_type": "code",
      "metadata": {
        "id": "qZ3rNuAWAewx",
        "cellView": "form"
      },
      "source": [
        "#@title Check the GPU status\n",
        "\n",
        "!nvidia-smi"
      ],
      "execution_count": null,
      "outputs": []
    },
    {
      "cell_type": "code",
      "metadata": {
        "id": "-_UVMZCIAq_r",
        "cellView": "form"
      },
      "source": [
        "#@title Install dependencies\n",
        "\n",
        "!git clone https://github.com/openai/CLIP\n",
        "!git clone https://github.com/openai/guided-diffusion\n",
        "!pip install -e ./CLIP\n",
        "!pip install -e ./guided-diffusion\n",
        "%pip install kornia"
      ],
      "execution_count": null,
      "outputs": []
    },
    {
      "cell_type": "code",
      "metadata": {
        "id": "7zAqFEykBHDL",
        "cellView": "form"
      },
      "source": [
        "#@title Download the pretrained 256px diffusion checkpoint. Rerun if download fails.\n",
        "\n",
        "!wget --continue 'https://openaipublic.blob.core.windows.net/diffusion/jul-2021/256x256_diffusion_uncond.pt'"
      ],
      "execution_count": null,
      "outputs": []
    },
    {
      "cell_type": "code",
      "metadata": {
        "id": "JmbrcrhpBPC6",
        "cellView": "form"
      },
      "source": [
        "#@title Imports\n",
        "\n",
        "import math\n",
        "import sys\n",
        "\n",
        "from IPython import display\n",
        "from PIL import Image\n",
        "import torch\n",
        "from torch import nn\n",
        "from torch.nn import functional as F\n",
        "from torchvision import transforms\n",
        "from torchvision.transforms import functional as TF\n",
        "from tqdm.notebook import tqdm\n",
        "\n",
        "sys.path.append('./CLIP')\n",
        "sys.path.append('./guided-diffusion')\n",
        "\n",
        "import clip\n",
        "from guided_diffusion.script_util import create_model_and_diffusion, model_and_diffusion_defaults\n",
        "import kornia.augmentation as K"
      ],
      "execution_count": null,
      "outputs": []
    },
    {
      "cell_type": "code",
      "metadata": {
        "cellView": "form",
        "id": "729Y4uuYA2fE"
      },
      "source": [
        "#@title Transforms\n",
        "color_jitter = True #@param{type: 'boolean'}\n",
        "color_jitter_two = False #@param{type: 'boolean'}\n",
        "elastic_transform = False #@param{type: 'boolean'}\n",
        "sharpness = False #@param{type: 'boolean'}\n",
        "gaussian_noise = False #@param{type: 'boolean'}\n",
        "perspective = False #@param{type: 'boolean'}\n",
        "rotation = False #@param{type: 'boolean'}\n",
        "affine = False #@param{type: 'boolean'}\n",
        "thin_plate_spline = False #@param{type: 'boolean'}\n",
        "crop = False #@param{type: 'boolean'}\n",
        "erasing = True #@param{type: 'boolean'}\n",
        "resizedcrop = False #@param{type: 'boolean'}\n",
        "solarize = False #@param{type: 'boolean'}\n",
        "\n",
        "\n"
      ],
      "execution_count": null,
      "outputs": []
    },
    {
      "cell_type": "code",
      "metadata": {
        "cellView": "form",
        "id": "nB_ldOxpvmED"
      },
      "source": [
        "#@title `MakeCutouts` implementation\n",
        "\n",
        "class MakeCutouts(nn.Module):\n",
        "    def __init__(self, cut_size, cutn, cut_pow=1.):\n",
        "        super().__init__()\n",
        "        self.cut_size = cut_size\n",
        "        self.cutn = cutn\n",
        "        self.cut_pow = cut_pow\n",
        "\n",
        "        augment_list = []\n",
        "        # Parametrization of the augmentations and new augmentations taken from <https://github.com/nerdyrodent/VQGAN-CLIP>, thanks to @nerdyrodent.\n",
        "        if color_jitter:\n",
        "            augment_list.append(K.ColorJitter(brightness=0.1, contrast=0.1, saturation=0.05, hue=0.05, p=0.5))\n",
        "        if color_jitter_two:\n",
        "            augment_list.append(K.ColorJitter(hue=0.1, saturation=0.1, p=0.7))\n",
        "        if elastic_transform:\n",
        "            augment_list.append(K.RandomElasticTransform(p=0.7))\n",
        "        if sharpness:\n",
        "            augment_list.append(K.RandomSharpness(sharpness=0.4, p=0.7))\n",
        "        if gaussian_noise:\n",
        "            augment_list.append(K.RandomGaussianNoise(mean=0.0, std=1., p=0.7))\n",
        "        if perspective:\n",
        "            augment_list.append(K.RandomPerspective(distortion_scale=0.7, p=0.7))\n",
        "        if rotation:\n",
        "            augment_list.append(K.RandomRotation(degrees=15, p=0.7))\n",
        "        if affine:\n",
        "            augment_list.append(K.RandomAffine(degrees=15, translate=0.1, p=0.7, padding_mode='border'))\n",
        "        if thin_plate_spline:\n",
        "            augment_list.append(K.RandomThinPlateSpline(scale=0.3, same_on_batch=False, p=0.7))\n",
        "        if crop:\n",
        "            augment_list.append(K.RandomCrop(size=(self.cut_size,self.cut_size), p=0.5))\n",
        "        if erasing:\n",
        "            augment_list.append(K.RandomErasing((.1, .4), (.3, 1/.3), same_on_batch=True, p=0.7))\n",
        "        if resizedcrop:\n",
        "            augment_list.append(K.RandomResizedCrop(size=(self.cut_size,self.cut_size), scale=(0.1,1),  ratio=(0.75,1.333), cropping_mode='resample', p=1.0))\n",
        "        if solarize:\n",
        "            augment_list.append(K.RandomSolarize(0.01, 0.01, p=0.7))\n",
        "                \n",
        "        self.augs = nn.Sequential(*augment_list)\n",
        "\n",
        "    def forward(self, input):\n",
        "        sideY, sideX = input.shape[2:4]\n",
        "        max_size = min(sideX, sideY)\n",
        "        min_size = min(sideX, sideY, self.cut_size)\n",
        "        cutouts = []\n",
        "        for _ in range(self.cutn):\n",
        "            size = int(torch.rand([])**self.cut_pow * (max_size - min_size) + min_size)\n",
        "            offsetx = torch.randint(0, sideX - size + 1, ())\n",
        "            offsety = torch.randint(0, sideY - size + 1, ())\n",
        "            cutout = input[:, :, offsety:offsety + size, offsetx:offsetx + size]\n",
        "            cutout = F.interpolate(cutout, (self.cut_size, self.cut_size),\n",
        "                                   mode='bilinear', align_corners=False)\n",
        "            cutouts.append(cutout)\n",
        "        return self.augs(torch.cat(cutouts))"
      ],
      "execution_count": null,
      "outputs": []
    },
    {
      "cell_type": "code",
      "metadata": {
        "cellView": "form",
        "id": "OOncxbN8FEKI"
      },
      "source": [
        "#@title Utility Functions\n",
        "def spherical_dist_loss(x, y):\n",
        "    x = F.normalize(x, dim=-1)\n",
        "    y = F.normalize(y, dim=-1)\n",
        "    return (x - y).norm(dim=-1).div(2).arcsin().pow(2).mul(2)\n",
        "\n",
        "\n",
        "def tv_loss(input):\n",
        "    \"\"\"L2 total variation loss, as in Mahendran et al.\"\"\"\n",
        "    input = F.pad(input, (0, 1, 0, 1), 'replicate')\n",
        "    x_diff = input[..., :-1, 1:] - input[..., :-1, :-1]\n",
        "    y_diff = input[..., 1:, :-1] - input[..., :-1, :-1]\n",
        "    return (x_diff**2 + y_diff**2).mean([1, 2, 3])\n",
        "\n",
        "# from github.com/mehdidc/feed_forward_vqgan_clip\n",
        "def tokenize_lines(line_separated, out=\"tokenized.pkl\"):\n",
        "    \"\"\"Save each line of `line_separated` as a CLIP embed. Save CLIP embeds to single file for usage later on. \"\"\"\n",
        "    texts = line_separated.splitlines()\n",
        "    T = clip.tokenize(texts, truncate=True)\n",
        "    torch.save(T, out)\n",
        "\n",
        "def tokenize_imagenet():\n",
        "    !wget --continue --quiet \"https://gist.githubusercontent.com/yrevar/942d3a0ac09ec9e5eb3a/raw/238f720ff059c1f82f368259d1ca4ffa5dd8f9f5/imagenet1000_clsidx_to_labels.txt\" \n",
        "    imgnet_idx_lbl = open('imagenet1000_clsidx_to_labels.txt').read().splitlines()\n",
        "    clean_captions = []\n",
        "    for idx_label in imgnet_idx_lbl:\n",
        "        imgnet_lbl = re.sub(r'\\d+: ', '', line).replace(\" '\",\"\").replace(\" '\",\"\").replace(\"  \", \" \").replace(\"'\", '').split(',') # get rid of 'digit: ' then get rid of weird spaces then ' then ,\n",
        "        if imgnt_lbl[1] is '':\n",
        "            clean_captions.append(imgnt_lbl[0])\n",
        "        else:\n",
        "            clean_captions.append(imgnt_lbl[1])\n",
        "\n",
        " \n",
        "def imagenet_class_line_to_caption():\n",
        "    !wget --continue --quiet \"https://gist.githubusercontent.com/yrevar/942d3a0ac09ec9e5eb3a/raw/238f720ff059c1f82f368259d1ca4ffa5dd8f9f5/imagenet1000_clsidx_to_labels.txt\" \n",
        "    imagenet_class_labels = open('imagenet1000_clsidx_to_labels.txt').read().splitlines()\n",
        "    line = random.choice(imagenet_class_labels)\n",
        "    labels_in_line = re.sub(r'\\d+: ', '', line).replace(\" '\",\"\").replace(\" '\",\"\").replace(\"  \", \" \").replace(\"'\", '').split(',') # get rid of 'digit: ' then get rid of weird spaces then ' then ,\n",
        "    print(\"prompt will be ignored and a random class will be chosen instead. Set `random_imagenet_class` to False and re-run this cell if that is not desired.\")\n",
        "    if labels_in_line[1] is '':\n",
        "        return labels_in_line[0]\n",
        "    return \" \".join(labels_in_line)"
      ],
      "execution_count": null,
      "outputs": []
    },
    {
      "cell_type": "code",
      "metadata": {
        "id": "Fpbody2NCR7w",
        "cellView": "form"
      },
      "source": [
        "#@title Model settings\n",
        "#@markdown `diffusion_steps` - Total number of steps for diffusion. Increase for slower runtime but greater quality.\n",
        "diffusion_steps = 1000 #@param {type: 'integer'}\n",
        "\n",
        "#@markdown `timestep_respacing` - less than or equal to `diffusion_steps`.  \n",
        "#@markdown Map sampling to a lower number of steps. Decrease for faster runtimes with decrease in quality. \n",
        "#@markdown (optional) use `ddim` sampling.\n",
        "timestep_respacing = \"ddim250\" #@param [\"25\", \"50\", \"100\", \"250\", \"500\", \"1000\", \"ddim25\", \"ddim100\", \"ddim250\", \"ddim500\"] {allow-input: true}\n",
        "\n",
        "model_config = model_and_diffusion_defaults()\n",
        "model_config.update({\n",
        "    'attention_resolutions': '32, 16, 8',\n",
        "    'class_cond': False,\n",
        "    'diffusion_steps': diffusion_steps,\n",
        "    'rescale_timesteps': True,\n",
        "    'timestep_respacing': timestep_respacing,\n",
        "    'image_size': 256,\n",
        "    'learn_sigma': True,\n",
        "    'noise_schedule': 'linear',\n",
        "    'num_channels': 256,\n",
        "    'num_head_channels': 64,\n",
        "    'num_res_blocks': 2,\n",
        "    'resblock_updown': True,\n",
        "    'use_fp16': True,\n",
        "    'use_scale_shift_norm': True,\n",
        "})\n",
        "#@title Load `guided-diffusion` and `clip` models\n",
        "#@markdown - `ViT-B/32` is quite good.\n",
        "#@markdown - `RN50x16` uses a ton of VRAM and is only slightly better than `ViT-B/16`\n",
        "#@markdown - `ViT-B/16` is a tad slower but higher quality.\n",
        "clip_model_name = 'RN50x4' #@param [\"ViT-B/16\", \"ViT-B/32\", \"RN50\", \"RN101\", \"RN50x4\", \"RN50x16\"]\n",
        "device = torch.device('cuda:0' if torch.cuda.is_available() else 'cpu')\n",
        "print('Using device:', device)\n",
        "\n",
        "model, diffusion = create_model_and_diffusion(**model_config)\n",
        "model.load_state_dict(torch.load('256x256_diffusion_uncond.pt', map_location='cpu'))\n",
        "model.requires_grad_(False).eval().to(device)\n",
        "for name, param in model.named_parameters():\n",
        "    if 'qkv' in name or 'norm' in name or 'proj' in name:\n",
        "        param.requires_grad_()\n",
        "if model_config['use_fp16']:\n",
        "    model.convert_to_fp16()\n",
        "\n",
        "clip_model = clip.load(clip_model_name, jit=False)[0].eval().requires_grad_(False).to(device)\n",
        "clip_size = clip_model.visual.input_resolution\n",
        "normalize = transforms.Normalize(mean=[0.48145466, 0.4578275, 0.40821073],\n",
        "                                 std=[0.26862954, 0.26130258, 0.27577711])\n",
        "\n"
      ],
      "execution_count": null,
      "outputs": []
    },
    {
      "cell_type": "code",
      "metadata": {
        "id": "U0PwzFZbLfcy",
        "cellView": "form"
      },
      "source": [
        "#@title Settings for the run\n",
        "prompt = 'Psychedelic Rock Album Cover' #@param {type: 'string'}\n",
        "#@markdown `Or...`\n",
        "random_imagenet_class = False #@param {type: 'boolean'}\n",
        "if random_imagenet_class is True:\n",
        "    prompt = imagenet_class_line_to_caption()\n",
        "#@markdown \n",
        "#@markdown `cutn` increasing seems to help for certain prompts but has diminishing returns for many. Uses more VRAM.\n",
        "cutn =  32 #@param {type: 'integer'}\n",
        "batch_size = 1 #@param {type: 'integer'}\n",
        "clip_guidance_scale = 1000 #@param {type: 'integer'}\n",
        "tv_scale = 100 #@param {type: 'integer'}\n",
        "seed = 0 #@param {type: 'integer'}\n",
        "\n",
        "print(f\"Using prompt: '{prompt}'\")\n",
        "print(f\"batch size: {batch_size}, clip_guidance_scale: {clip_guidance_scale}, tv_scale: {tv_scale}, cutn: {cutn}, seed: {seed}\")"
      ],
      "execution_count": null,
      "outputs": []
    },
    {
      "cell_type": "code",
      "metadata": {
        "id": "X5gODNAMEUCR",
        "cellView": "form"
      },
      "source": [
        "#@title Actually do the run\n",
        "if seed is not None:\n",
        "    torch.manual_seed(seed)\n",
        "\n",
        "text_embed = clip_model.encode_text(clip.tokenize(prompt).to(device)).float()\n",
        "\n",
        "make_cutouts = MakeCutouts(clip_size, cutn)\n",
        "\n",
        "cur_t = diffusion.num_timesteps - 1\n",
        "\n",
        "def cond_fn(x, t, y=None):\n",
        "    with torch.enable_grad():\n",
        "        x = x.detach().requires_grad_()\n",
        "        n = x.shape[0]\n",
        "        my_t = torch.ones([n], device=device, dtype=torch.long) * cur_t\n",
        "        out = diffusion.p_mean_variance(model, x, my_t, clip_denoised=True, model_kwargs={'y': y})\n",
        "        fac = diffusion.sqrt_one_minus_alphas_cumprod[cur_t]\n",
        "        x_in = out['pred_xstart'] * fac + x * (1 - fac)\n",
        "        clip_in = normalize(make_cutouts(x_in.add(1).div(2)))\n",
        "        image_embeds = clip_model.encode_image(clip_in).float().view([cutn, n, -1])\n",
        "        dists = spherical_dist_loss(image_embeds, text_embed.unsqueeze(0))\n",
        "        losses = dists.mean(0)\n",
        "        tv_losses = tv_loss(x_in)\n",
        "        loss = losses.sum() * clip_guidance_scale + tv_losses.sum() * tv_scale\n",
        "        return -torch.autograd.grad(loss, x)[0]\n",
        "\n",
        "if model_config['timestep_respacing'].startswith('ddim'):\n",
        "    sample_fn = diffusion.ddim_sample_loop_progressive\n",
        "else:\n",
        "    sample_fn = diffusion.p_sample_loop_progressive\n",
        "\n",
        "samples = sample_fn(\n",
        "    model,\n",
        "    (batch_size, 3, model_config['image_size'], model_config['image_size']),\n",
        "    clip_denoised=True,\n",
        "    model_kwargs={},\n",
        "    cond_fn=cond_fn,\n",
        "    progress=True,\n",
        ")\n",
        "\n",
        "for i, sample in enumerate(samples):\n",
        "    cur_t -= 1\n",
        "    if i % 100 == 0 or cur_t == -1:\n",
        "        print()\n",
        "        for j, image in enumerate(sample['pred_xstart']):\n",
        "            filename = f'progress_{j:05}.png'\n",
        "            TF.to_pil_image(image.add(1).div(2).clamp(0, 1)).save(filename)\n",
        "            tqdm.write(f'Step {i}, output {j}:')\n",
        "            display.display(display.Image(filename))\n"
      ],
      "execution_count": null,
      "outputs": []
    },
    {
      "cell_type": "code",
      "metadata": {
        "id": "yt1qvvuz3TUm"
      },
      "source": [
        ""
      ],
      "execution_count": null,
      "outputs": []
    }
  ]
}